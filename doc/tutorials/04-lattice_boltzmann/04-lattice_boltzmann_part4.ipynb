{
 "cells": [
  {
   "cell_type": "markdown",
   "metadata": {},
   "source": [
    "# Tutorial 4 : The lattice-Boltzmann method in ESPResSo - Part 4"
   ]
  },
  {
   "cell_type": "markdown",
   "metadata": {},
   "source": [
    "## Poiseuille flow in ESPResSo\n",
    "\n",
    "Poiseuille flow is the flow through a pipe or (in our case) a slit\n",
    "under a homogeneous force density, e.g. gravity. In the limit of small Reynolds\n",
    "numbers, the flow can be described with the Stokes equation. \n",
    "We assume the slit being infinitely extended in $y$ and $z$ \n",
    "direction and a force density $f_y$ on the fluid \n",
    "in $y$ direction. No slip-boundary conditions  (i.e. $\\vec{u}=0$)\n",
    "are located at $x = \\pm h/2$.\n",
    "Assuming invariance in $y$ and $z$ direction and a steady state, \n",
    "the Stokes equation is simplified to:\n",
    "\n",
    "\\begin{equation}\n",
    "  \\mu \\partial_x^2 u_y = f_y\n",
    "\\end{equation}\n",
    "\n",
    "where $f_y$ denotes the force density and $\\mu$ the dynamic viscosity.\n",
    "This can be integrated twice and the integration constants are chosen\n",
    "so that $u_y=0$ at $x = \\pm h/2$ to obtain the solution to the\n",
    "planar Poiseuille flow [8]:\n",
    "\n",
    "\\begin{equation}\n",
    "  u_y(x) = \\frac{f_y}{2\\mu} \\left(h^2/4-x^2\\right)\n",
    "\\end{equation}\n",
    "\n",
    "We will simulate a planar Poiseuille flow using a square box, two walls\n",
    "with normal vectors $\\left(\\pm 1, 0, 0 \\right)$, and an external force density\n",
    "applied to every node."
   ]
  },
  {
   "cell_type": "markdown",
   "metadata": {},
   "source": [
    "### 1. Setting up the system"
   ]
  },
  {
   "cell_type": "code",
   "execution_count": null,
   "metadata": {},
   "outputs": [],
   "source": [
    "import logging\n",
    "import sys\n",
    "\n",
    "import matplotlib.pyplot as plt\n",
    "import numpy as np\n",
    "\n",
    "import espressomd\n",
    "import espressomd.lb\n",
    "import espressomd.lbboundaries\n",
    "import espressomd.shapes\n",
    "\n",
    "logging.basicConfig(level=logging.INFO, stream=sys.stdout)\n",
    "\n",
    "espressomd.assert_features(['LB_WALBERLA', 'LB_BOUNDARIES'])\n",
    "\n",
    "# System constants\n",
    "BOX_L = 16.0\n",
    "TIME_STEP = 0.01\n",
    "\n",
    "system = espressomd.System(box_l=[BOX_L]*3)\n",
    "system.time_step = TIME_STEP\n",
    "system.cell_system.skin = 0.4"
   ]
  },
  {
   "cell_type": "markdown",
   "metadata": {},
   "source": [
    "#### 1.1 Setting up the lattice-Boltzmann fluid\n",
    "\n",
    "We will now create a lattice-Boltzmann fluid confined between two walls."
   ]
  },
  {
   "cell_type": "code",
   "execution_count": null,
   "metadata": {},
   "outputs": [],
   "source": [
    "# LB parameters\n",
    "AGRID = 0.5\n",
    "VISCOSITY = 2.0\n",
    "FORCE_DENSITY = [0.0, 0.001, 0.0]\n",
    "DENSITY = 1.5\n",
    "\n",
    "# LB boundary parameters\n",
    "WALL_OFFSET = AGRID"
   ]
  },
  {
   "cell_type": "markdown",
   "metadata": {
    "solution2": "hidden",
    "solution2_first": true
   },
   "source": [
    "Create a lattice-Boltzmann actor and append it to the list of system actors. Use the GPU implementation of LB.\n",
    "\n",
    "You can refer to section [setting up a LB fluid](http://espressomd.org/html/doc/lb.html#setting-up-a-lb-fluid)\n",
    "in the user guide."
   ]
  },
  {
   "cell_type": "markdown",
   "metadata": {
    "solution2": "hidden"
   },
   "source": [
    "```python\n",
    "logging.info(\"Setup LB fluid.\")\n",
    "lbf = espressomd.lb.LBFluidWalberla(agrid=AGRID, dens=DENSITY, visc=VISCOSITY, tau=TIME_STEP,\n",
    "                                    ext_force_density=FORCE_DENSITY)\n",
    "system.actors.add(lbf)\n",
    "```"
   ]
  },
  {
   "cell_type": "code",
   "execution_count": null,
   "metadata": {},
   "outputs": [],
   "source": []
  },
  {
   "cell_type": "markdown",
   "metadata": {
    "solution2": "hidden",
    "solution2_first": true
   },
   "source": [
    "Create a LB boundary and append it to the list of system LB boundaries.\n",
    "\n",
    "You can refer to section [using shapes as lattice-Boltzmann boundary](http://espressomd.org/html/doc/lb.html#using-shapes-as-lattice-boltzmann-boundary) in the user guide."
   ]
  },
  {
   "cell_type": "markdown",
   "metadata": {
    "solution2": "hidden"
   },
   "source": [
    "```python\n",
    "logging.info(\"Setup LB boundaries.\")\n",
    "top_wall = espressomd.shapes.Wall(normal=[1, 0, 0], dist=WALL_OFFSET)\n",
    "bottom_wall = espressomd.shapes.Wall(normal=[-1, 0, 0], dist=-(BOX_L - WALL_OFFSET))\n",
    "\n",
    "top_boundary = espressomd.lbboundaries.LBBoundary(shape=top_wall)\n",
    "bottom_boundary = espressomd.lbboundaries.LBBoundary(shape=bottom_wall)\n",
    "\n",
    "system.lbboundaries.add(top_boundary)\n",
    "system.lbboundaries.add(bottom_boundary)\n",
    "```"
   ]
  },
  {
   "cell_type": "code",
   "execution_count": null,
   "metadata": {},
   "outputs": [],
   "source": []
  },
  {
   "cell_type": "markdown",
   "metadata": {},
   "source": [
    "### 2. Simulation\n",
    "\n",
    "We will now simulate the fluid flow until we reach the steady state."
   ]
  },
  {
   "cell_type": "code",
   "execution_count": null,
   "metadata": {},
   "outputs": [],
   "source": [
    "logging.info(\"Iterate until the flow profile converges (5000 LB updates).\")\n",
    "system.integrator.run(5000)"
   ]
  },
  {
   "cell_type": "markdown",
   "metadata": {},
   "source": [
    "### 3. Data analysis\n",
    "\n",
    "We can now extract the flow profile and compare it to the analytical solution for the planar Poiseuille flow."
   ]
  },
  {
   "cell_type": "code",
   "execution_count": null,
   "metadata": {},
   "outputs": [],
   "source": [
    "logging.info(\"Extract fluid velocities along the x-axis\")\n",
    "fluid_positions = np.zeros(lbf.shape[0])\n",
    "fluid_velocities = np.zeros(lbf.shape[0])\n",
    "for x in range(lbf.shape[0]):\n",
    "    # Average over the nodes in y direction\n",
    "    v = [lbf[x, y, 0].velocity[1] for y in range(lbf.shape[1])]\n",
    "    fluid_velocities[x] = np.average(v)\n",
    "    fluid_positions[x] = (x + 0.5) * AGRID\n",
    "\n",
    "def poiseuille_flow(x, force_density, dynamic_viscosity, height):\n",
    "    return force_density / (2 * dynamic_viscosity) * (height**2 / 4 - x**2)\n",
    "\n",
    "# Note that the LB viscosity is not the dynamic viscosity but the\n",
    "# kinematic viscosity (mu=LB_viscosity * density)\n",
    "x_values = np.linspace(0.0, BOX_L, lbf.shape[0])\n",
    "HEIGHT = BOX_L - 2.0 * AGRID\n",
    "# analytical curve\n",
    "y_values = poiseuille_flow(x_values - (HEIGHT / 2 + AGRID), FORCE_DENSITY[1],\n",
    "                           VISCOSITY * DENSITY, HEIGHT)\n",
    "# velocity is zero inside the walls\n",
    "y_values[np.nonzero(x_values < WALL_OFFSET)] = 0.0\n",
    "y_values[np.nonzero(x_values > BOX_L - WALL_OFFSET)] = 0.0\n",
    "\n",
    "fig1 = plt.figure(figsize=(10, 6))\n",
    "plt.plot(x_values, y_values, '-', linewidth=2, label='analytical')\n",
    "plt.plot(fluid_positions, fluid_velocities, 'o', label='simulation')\n",
    "plt.xlabel('Position on the $x$-axis', fontsize=16)\n",
    "plt.ylabel('Fluid velocity in $y$-direction', fontsize=16)\n",
    "plt.legend()\n",
    "plt.show()"
   ]
  },
  {
   "cell_type": "markdown",
   "metadata": {},
   "source": [
    "## References\n",
    "\n",
    "[1] S. Succi. *The lattice Boltzmann equation for fluid dynamics and beyond.* Clarendon Press, Oxford, 2001.  \n",
    "[2] B. Dünweg and A. J. C. Ladd. *Advanced Computer Simulation Approaches for Soft Matter Sciences III*, chapter II, pages 89–166. Springer, 2009.  \n",
    "[3] B. Dünweg, U. Schiller, and A.J.C. Ladd. Statistical mechanics of the fluctuating lattice-Boltzmann equation. *Phys. Rev. E*, 76:36704, 2007.  \n",
    "[4] P. G. de Gennes. *Scaling Concepts in Polymer Physics*. Cornell University Press, Ithaca, NY, 1979.  \n",
    "[5] M. Doi. *Introduction to Polymer Physics.* Clarendon Press, Oxford, 1996.  \n",
    "[6] Michael Rubinstein and Ralph H. Colby. *Polymer Physics.* Oxford University Press, Oxford, UK, 2003.  \n",
    "[7] Daan Frenkel and Berend Smit. *Understanding Molecular Simulation.* Academic Press, San Diego, second edition, 2002.  \n",
    "[8] W. E. Langlois and M. O. Deville. *Exact Solutions to the Equations of Viscous Flow*. In: *Slow Viscous Flow*, Springer, Cham, 2014."
   ]
  }
 ],
 "metadata": {
  "kernelspec": {
   "display_name": "Python 3",
   "language": "python",
   "name": "python3"
  },
  "language_info": {
   "codemirror_mode": {
    "name": "ipython",
    "version": 3
   },
   "file_extension": ".py",
   "mimetype": "text/x-python",
   "name": "python",
   "nbconvert_exporter": "python",
   "pygments_lexer": "ipython3",
   "version": "3.6.8"
  }
 },
 "nbformat": 4,
 "nbformat_minor": 1
}
